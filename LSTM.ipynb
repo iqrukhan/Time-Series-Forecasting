{
  "nbformat": 4,
  "nbformat_minor": 0,
  "metadata": {
    "colab": {
      "name": "LSTM.ipynb",
      "provenance": []
    },
    "kernelspec": {
      "name": "python3",
      "display_name": "Python 3"
    },
    "language_info": {
      "name": "python"
    }
  },
  "cells": [
    {
      "cell_type": "code",
      "metadata": {
        "colab": {
          "resources": {
            "http://localhost:8080/nbextensions/google.colab/files.js": {
              "data": "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",
              "ok": true,
              "headers": [
                [
                  "content-type",
                  "application/javascript"
                ]
              ],
              "status": 200,
              "status_text": ""
            }
          },
          "base_uri": "https://localhost:8080/",
          "height": 73
        },
        "id": "JiSm1bpXQiQV",
        "outputId": "70617c23-1838-4020-ed3e-99e7c344b553"
      },
      "source": [
        "import pandas as pd\n",
        "import matplotlib.pyplot as plt\n",
        "# uploading file from local drive\n",
        "from google.colab import files\n",
        "uploaded = files.upload()"
      ],
      "execution_count": null,
      "outputs": [
        {
          "output_type": "display_data",
          "data": {
            "text/html": [
              "\n",
              "     <input type=\"file\" id=\"files-695ac828-ac22-4bf9-8f34-e462a3a37a2c\" name=\"files[]\" multiple disabled\n",
              "        style=\"border:none\" />\n",
              "     <output id=\"result-695ac828-ac22-4bf9-8f34-e462a3a37a2c\">\n",
              "      Upload widget is only available when the cell has been executed in the\n",
              "      current browser session. Please rerun this cell to enable.\n",
              "      </output>\n",
              "      <script src=\"/nbextensions/google.colab/files.js\"></script> "
            ],
            "text/plain": [
              "<IPython.core.display.HTML object>"
            ]
          },
          "metadata": {}
        },
        {
          "output_type": "stream",
          "name": "stdout",
          "text": [
            "Saving USD_PKR Historical Data.csv to USD_PKR Historical Data (8).csv\n"
          ]
        }
      ]
    },
    {
      "cell_type": "code",
      "metadata": {
        "id": "3XQF_mcwWTTK"
      },
      "source": [
        "import io\n",
        "# storing dataset in a Pandas Dataframe\n",
        "df2 = pd.read_csv(io.BytesIO(uploaded['USD_PKR Historical Data.csv']))"
      ],
      "execution_count": null,
      "outputs": []
    },
    {
      "cell_type": "code",
      "metadata": {
        "colab": {
          "base_uri": "https://localhost:8080/"
        },
        "id": "cucLRKMQWs82",
        "outputId": "b086744a-77bd-4c66-fda1-1b6ab7828547"
      },
      "source": [
        "print(df2)"
      ],
      "execution_count": null,
      "outputs": [
        {
          "output_type": "stream",
          "name": "stdout",
          "text": [
            "              Date    Price     Open     High     Low Change %\n",
            "0     Jan 01, 2020  154.870  154.870  155.270  154.87   -0.08%\n",
            "1     Dec 31, 2019  155.000  154.970  155.410  154.97    0.03%\n",
            "2     Dec 30, 2019  154.950  154.430  155.340  154.43    0.06%\n",
            "3     Dec 28, 2019  154.850  154.850  154.850  154.85    0.00%\n",
            "4     Dec 27, 2019  154.850  155.480  155.900  154.80    0.08%\n",
            "...            ...      ...      ...      ...     ...      ...\n",
            "4436  Jan 07, 2005   59.600   59.550   59.610   59.52   -0.03%\n",
            "4437  Jan 06, 2005   59.620   59.550   59.640   59.54    0.03%\n",
            "4438  Jan 05, 2005   59.605   59.560   59.605   59.53    0.09%\n",
            "4439  Jan 04, 2005   59.550   59.485   59.675   59.40    0.15%\n",
            "4440  Jan 03, 2005   59.460   59.410   59.540   59.40    0.06%\n",
            "\n",
            "[4441 rows x 6 columns]\n"
          ]
        }
      ]
    },
    {
      "cell_type": "code",
      "metadata": {
        "colab": {
          "base_uri": "https://localhost:8080/",
          "height": 265
        },
        "id": "d5nzb5N_X_E9",
        "outputId": "8cab98f0-ac5b-4667-b272-f091f2754660"
      },
      "source": [
        "plt.plot(df2['Price'])\n",
        "plt.show()"
      ],
      "execution_count": null,
      "outputs": [
        {
          "output_type": "display_data",
          "data": {
            "image/png": "[encoded data removed]",
            "text/plain": [
              "<Figure size 432x288 with 1 Axes>"
            ]
          },
          "metadata": {
            "needs_background": "light"
          }
        }
      ]
    },
    {
      "cell_type": "markdown",
      "metadata": {
        "id": "INUXgnN2YrfK"
      },
      "source": [
        "Note: indexing here is used to visualize the dates on the X-axis."
      ]
    },
    {
      "cell_type": "code",
      "metadata": {
        "colab": {
          "base_uri": "https://localhost:8080/"
        },
        "id": "vAQnJOEhY3HB",
        "outputId": "05f8d19f-9585-48dd-f888-ddde5915693c"
      },
      "source": [
        "#specifying the data frame of our interest\n",
        "df = df2['Price']\n",
        "print(df)"
      ],
      "execution_count": null,
      "outputs": [
        {
          "output_type": "stream",
          "name": "stdout",
          "text": [
            "0       154.870\n",
            "1       155.000\n",
            "2       154.950\n",
            "3       154.850\n",
            "4       154.850\n",
            "         ...   \n",
            "4436     59.600\n",
            "4437     59.620\n",
            "4438     59.605\n",
            "4439     59.550\n",
            "4440     59.460\n",
            "Name: Price, Length: 4441, dtype: float64\n"
          ]
        }
      ]
    },
    {
      "cell_type": "code",
      "metadata": {
        "id": "ot-fbEqTaA8N"
      },
      "source": [
        "#importing useful libraries\n",
        "import numpy as np\n",
        "import math\n",
        "from keras.models import Sequential\n",
        "from keras.layers import Dense\n",
        "from keras.layers import LSTM\n",
        "from sklearn.preprocessing import MinMaxScaler\n",
        "from sklearn.metrics import mean_squared_error"
      ],
      "execution_count": null,
      "outputs": []
    },
    {
      "cell_type": "code",
      "metadata": {
        "id": "x0U7q_Qib2Zc"
      },
      "source": [
        "# fixing random seed for reproducibility\n",
        "np.random.seed(7)"
      ],
      "execution_count": null,
      "outputs": []
    },
    {
      "cell_type": "code",
      "metadata": {
        "id": "bRr52eJQb_7O"
      },
      "source": [
        "# loading the dataset\n",
        "data_set = df.values\n",
        "data_set = data_set.astype('float32')"
      ],
      "execution_count": null,
      "outputs": []
    },
    {
      "cell_type": "markdown",
      "metadata": {
        "id": "vzXYNEL0esLN"
      },
      "source": [
        "**Data** **Preprocessing**"
      ]
    },
    {
      "cell_type": "code",
      "metadata": {
        "id": "VlvsCGhKcmyk"
      },
      "source": [
        "# normalizing the dataset using the MinMaxScaler preprocessing class from the scikit-learn library\n",
        "dataset = np.array(data_set).reshape(-1,1)\n",
        "scaler = MinMaxScaler(feature_range=(0, 1))\n",
        "dataset = scaler.fit_transform(dataset)"
      ],
      "execution_count": null,
      "outputs": []
    },
    {
      "cell_type": "code",
      "metadata": {
        "colab": {
          "base_uri": "https://localhost:8080/"
        },
        "id": "3DsFVXW-d8_M",
        "outputId": "fce1e18e-8e4c-44c5-ac86-24a8fd8ba27f"
      },
      "source": [
        "# spliting dataset into train and test sets\n",
        "train_size = int(len(dataset) * 0.80)\n",
        "test_size = len(dataset) - train_size\n",
        "train, test = dataset[0:train_size,:], dataset[train_size:len(dataset),:]\n",
        "print(len(train), len(test))"
      ],
      "execution_count": null,
      "outputs": [
        {
          "output_type": "stream",
          "name": "stdout",
          "text": [
            "3552 889\n"
          ]
        }
      ]
    },
    {
      "cell_type": "code",
      "metadata": {
        "id": "CK_uXs9Nexuc"
      },
      "source": [
        "# converting an array of values into a dataset matrix\n",
        "def create_dataset(dataset, look_back):\n",
        "\tdataX, dataY = [], []\n",
        "\tfor i in range(len(dataset)-look_back-1):\n",
        "\t\ta = dataset[i:(i+look_back), 0]\n",
        "\t\tdataX.append(a)\n",
        "\t\tdataY.append(dataset[i + look_back, 0])\n",
        "\treturn np.array(dataX), np.array(dataY)"
      ],
      "execution_count": null,
      "outputs": []
    },
    {
      "cell_type": "markdown",
      "metadata": {
        "id": "8x8CGXSffQAp"
      },
      "source": [
        "The above function takes two arguments: the dataset, which is a NumPy array that we want to convert into a dataset, and the look_back, which is the number of previous time steps to use as input variables to predict the next time period — in this case 5 as mentioned in word file."
      ]
    },
    {
      "cell_type": "markdown",
      "metadata": {
        "id": "KDpvyTgsnnqS"
      },
      "source": [
        "New Normallized Dataset"
      ]
    },
    {
      "cell_type": "code",
      "metadata": {
        "id": "2utWPF7OnXKy"
      },
      "source": [
        "# using the function to prepare the train and test datasets for modeling (reshape into X(t-5),X(t-4),X(t-3),X(t-2),X(t-1),Y(t))\n",
        "look_back = 5\n",
        "trainX, trainY = create_dataset(train, look_back)\n",
        "testX, testY = create_dataset(test, look_back)"
      ],
      "execution_count": null,
      "outputs": []
    },
    {
      "cell_type": "code",
      "metadata": {
        "colab": {
          "base_uri": "https://localhost:8080/"
        },
        "id": "WRLwCyDpprxH",
        "outputId": "a6b004d8-335b-45b8-f8be-f2ccb03ff76d"
      },
      "source": [
        "print(trainX.shape)\n",
        "print(trainY.shape)\n",
        "print(testX.shape)\n",
        "print(testY.shape)"
      ],
      "execution_count": null,
      "outputs": [
        {
          "output_type": "stream",
          "name": "stdout",
          "text": [
            "(3546, 5)\n",
            "(3546,)\n",
            "(883, 5)\n",
            "(883,)\n"
          ]
        }
      ]
    },
    {
      "cell_type": "code",
      "metadata": {
        "id": "eiX_QgwyoCdb"
      },
      "source": [
        "# reshaping input X to be [samples, time steps, features]\n",
        "trainX = np.reshape(trainX, (trainX.shape[0], 1,trainX.shape[1]))\n",
        "testX = np.reshape(testX, (testX.shape[0], 1,testX.shape[1]))"
      ],
      "execution_count": null,
      "outputs": []
    },
    {
      "cell_type": "code",
      "metadata": {
        "colab": {
          "base_uri": "https://localhost:8080/"
        },
        "id": "kJ_GLkl0pPYU",
        "outputId": "68a9a6d9-fa58-4edd-9c0e-34f0612f1b27"
      },
      "source": [
        "print(trainX.shape)\n",
        "print(testX.shape)"
      ],
      "execution_count": null,
      "outputs": [
        {
          "output_type": "stream",
          "name": "stdout",
          "text": [
            "(3546, 1, 5)\n",
            "(883, 1, 5)\n"
          ]
        }
      ]
    },
    {
      "cell_type": "markdown",
      "metadata": {
        "id": "UQHrXjkYqfvF"
      },
      "source": [
        "We are now ready to design and fit our LSTM network for this problem."
      ]
    },
    {
      "cell_type": "markdown",
      "metadata": {
        "id": "KEzaUmkoqora"
      },
      "source": [
        "**Defining the LSTM Model**"
      ]
    },
    {
      "cell_type": "code",
      "metadata": {
        "colab": {
          "base_uri": "https://localhost:8080/"
        },
        "id": "bZXL4AIEqg3n",
        "outputId": "415b7522-4a91-4f95-a880-408fbae7db26"
      },
      "source": [
        "# creating and fitting the LSTM network\n",
        "model = Sequential()\n",
        "model.add(LSTM(100, input_shape=(1, look_back)))\n",
        "model.add(Dense(1))\n",
        "model.summary()"
      ],
      "execution_count": null,
      "outputs": [
        {
          "output_type": "stream",
          "name": "stdout",
          "text": [
            "Model: \"sequential\"\n",
            "_________________________________________________________________\n",
            "Layer (type)                 Output Shape              Param #   \n",
            "=================================================================\n",
            "lstm (LSTM)                  (None, 100)               42400     \n",
            "_________________________________________________________________\n",
            "dense (Dense)                (None, 1)                 101       \n",
            "=================================================================\n",
            "Total params: 42,501\n",
            "Trainable params: 42,501\n",
            "Non-trainable params: 0\n",
            "_________________________________________________________________\n"
          ]
        }
      ]
    },
    {
      "cell_type": "code",
      "metadata": {
        "colab": {
          "base_uri": "https://localhost:8080/"
        },
        "id": "os8O22Y-CqPl",
        "outputId": "e4658581-fcaf-4b25-94b6-8736e61a3414"
      },
      "source": [
        "# compiling\n",
        "model.compile(loss='mean_squared_error', optimizer='adam')\n",
        "# training\n",
        "model.fit(trainX, trainY, epochs=50, batch_size=1, verbose=2)"
      ],
      "execution_count": null,
      "outputs": [
        {
          "output_type": "stream",
          "name": "stdout",
          "text": [
            "Epoch 1/50\n",
            "3546/3546 - 8s - loss: 0.0010\n",
            "Epoch 2/50\n",
            "3546/3546 - 6s - loss: 8.8779e-05\n",
            "Epoch 3/50\n",
            "3546/3546 - 6s - loss: 8.6792e-05\n",
            "Epoch 4/50\n",
            "3546/3546 - 6s - loss: 8.1960e-05\n",
            "Epoch 5/50\n",
            "3546/3546 - 6s - loss: 6.9549e-05\n",
            "Epoch 6/50\n",
            "3546/3546 - 6s - loss: 7.2169e-05\n",
            "Epoch 7/50\n",
            "3546/3546 - 6s - loss: 6.9725e-05\n",
            "Epoch 8/50\n",
            "3546/3546 - 6s - loss: 6.6097e-05\n",
            "Epoch 9/50\n",
            "3546/3546 - 6s - loss: 5.8436e-05\n",
            "Epoch 10/50\n",
            "3546/3546 - 6s - loss: 5.6053e-05\n",
            "Epoch 11/50\n",
            "3546/3546 - 6s - loss: 6.0401e-05\n",
            "Epoch 12/50\n",
            "3546/3546 - 6s - loss: 6.0552e-05\n",
            "Epoch 13/50\n",
            "3546/3546 - 6s - loss: 5.9395e-05\n",
            "Epoch 14/50\n",
            "3546/3546 - 6s - loss: 5.1313e-05\n",
            "Epoch 15/50\n",
            "3546/3546 - 6s - loss: 4.9038e-05\n",
            "Epoch 16/50\n",
            "3546/3546 - 6s - loss: 5.1385e-05\n",
            "Epoch 17/50\n",
            "3546/3546 - 6s - loss: 5.3286e-05\n",
            "Epoch 18/50\n",
            "3546/3546 - 6s - loss: 5.3649e-05\n",
            "Epoch 19/50\n",
            "3546/3546 - 6s - loss: 4.6132e-05\n",
            "Epoch 20/50\n",
            "3546/3546 - 6s - loss: 5.1317e-05\n",
            "Epoch 21/50\n",
            "3546/3546 - 6s - loss: 4.9256e-05\n",
            "Epoch 22/50\n",
            "3546/3546 - 6s - loss: 4.5082e-05\n",
            "Epoch 23/50\n",
            "3546/3546 - 6s - loss: 4.7302e-05\n",
            "Epoch 24/50\n",
            "3546/3546 - 6s - loss: 4.7680e-05\n",
            "Epoch 25/50\n",
            "3546/3546 - 6s - loss: 4.8546e-05\n",
            "Epoch 26/50\n",
            "3546/3546 - 6s - loss: 4.6974e-05\n",
            "Epoch 27/50\n",
            "3546/3546 - 6s - loss: 4.5692e-05\n",
            "Epoch 28/50\n",
            "3546/3546 - 6s - loss: 4.3740e-05\n",
            "Epoch 29/50\n",
            "3546/3546 - 6s - loss: 4.4677e-05\n",
            "Epoch 30/50\n",
            "3546/3546 - 6s - loss: 4.2565e-05\n",
            "Epoch 31/50\n",
            "3546/3546 - 6s - loss: 4.3300e-05\n",
            "Epoch 32/50\n",
            "3546/3546 - 6s - loss: 4.2196e-05\n",
            "Epoch 33/50\n",
            "3546/3546 - 6s - loss: 4.4060e-05\n",
            "Epoch 34/50\n",
            "3546/3546 - 6s - loss: 3.9473e-05\n",
            "Epoch 35/50\n",
            "3546/3546 - 6s - loss: 3.9579e-05\n",
            "Epoch 36/50\n",
            "3546/3546 - 6s - loss: 4.1093e-05\n",
            "Epoch 37/50\n",
            "3546/3546 - 6s - loss: 4.0163e-05\n",
            "Epoch 38/50\n",
            "3546/3546 - 6s - loss: 3.9746e-05\n",
            "Epoch 39/50\n",
            "3546/3546 - 6s - loss: 3.9015e-05\n",
            "Epoch 40/50\n",
            "3546/3546 - 6s - loss: 4.0241e-05\n",
            "Epoch 41/50\n",
            "3546/3546 - 6s - loss: 4.0337e-05\n",
            "Epoch 42/50\n",
            "3546/3546 - 6s - loss: 4.3085e-05\n",
            "Epoch 43/50\n",
            "3546/3546 - 6s - loss: 4.1266e-05\n",
            "Epoch 44/50\n",
            "3546/3546 - 6s - loss: 3.6658e-05\n",
            "Epoch 45/50\n",
            "3546/3546 - 6s - loss: 3.6082e-05\n",
            "Epoch 46/50\n",
            "3546/3546 - 6s - loss: 4.0795e-05\n",
            "Epoch 47/50\n",
            "3546/3546 - 6s - loss: 4.0620e-05\n",
            "Epoch 48/50\n",
            "3546/3546 - 6s - loss: 3.5289e-05\n",
            "Epoch 49/50\n",
            "3546/3546 - 6s - loss: 3.9811e-05\n",
            "Epoch 50/50\n",
            "3546/3546 - 6s - loss: 3.6021e-05\n"
          ]
        },
        {
          "output_type": "execute_result",
          "data": {
            "text/plain": [
              "<keras.callbacks.History at 0x7f0db644cbd0>"
            ]
          },
          "metadata": {},
          "execution_count": 19
        }
      ]
    },
    {
      "cell_type": "code",
      "metadata": {
        "colab": {
          "base_uri": "https://localhost:8080/"
        },
        "id": "d0-p1In6v_84",
        "outputId": "a5fb37f3-0b36-4b30-e517-3555bfaca4de"
      },
      "source": [
        "#Prediction using the trained model\n",
        "scaler.scale_\n",
        "\n",
        "y_pred = model.predict(testX)\n",
        "# inverting predictions\n",
        "y_pred = scaler.inverse_transform(y_pred)\n",
        "# printing predicted prices\n",
        "print(y_pred[:7])"
      ],
      "execution_count": null,
      "outputs": [
        {
          "output_type": "stream",
          "name": "stdout",
          "text": [
            "[[67.9022  ]\n",
            " [68.54734 ]\n",
            " [68.87254 ]\n",
            " [69.21313 ]\n",
            " [68.75862 ]\n",
            " [68.602356]\n",
            " [68.47463 ]]\n"
          ]
        }
      ]
    },
    {
      "cell_type": "code",
      "metadata": {
        "colab": {
          "base_uri": "https://localhost:8080/"
        },
        "id": "fe9nZ_SYwunS",
        "outputId": "a1401db3-6db4-4f62-c947-7860c3dcdccd"
      },
      "source": [
        "# printing original prices\n",
        "y_test = np.array(testY).reshape(-1,1)\n",
        "# for un-normalizing\n",
        "y_test = scaler.inverse_transform(y_test)\n",
        "print(y_test[:7])"
      ],
      "execution_count": null,
      "outputs": [
        {
          "output_type": "stream",
          "name": "stdout",
          "text": [
            "[[69.27 ]\n",
            " [69.31 ]\n",
            " [69.65 ]\n",
            " [68.45 ]\n",
            " [68.5  ]\n",
            " [68.505]\n",
            " [68.6  ]]\n"
          ]
        }
      ]
    },
    {
      "cell_type": "code",
      "metadata": {
        "colab": {
          "base_uri": "https://localhost:8080/"
        },
        "id": "4K2NCEzyxlr4",
        "outputId": "cac2e3d1-cdc2-4bef-836e-fb18b85462ca"
      },
      "source": [
        "#Mean Squared Error\n",
        "mean_squared_error(y_test,y_pred)"
      ],
      "execution_count": null,
      "outputs": [
        {
          "output_type": "execute_result",
          "data": {
            "text/plain": [
              "0.048131067"
            ]
          },
          "metadata": {},
          "execution_count": 22
        }
      ]
    },
    {
      "cell_type": "code",
      "metadata": {
        "colab": {
          "base_uri": "https://localhost:8080/",
          "height": 353
        },
        "id": "iYALUhqi28zh",
        "outputId": "7e93c7aa-4ae1-433e-857d-633576d11b4b"
      },
      "source": [
        "#Visualizing the results\n",
        "plt.figure(figsize=(10,5))\n",
        "plt.title('USD to PKR currency rate')\n",
        "plt.plot(y_test , label = 'Actual', color = 'g')\n",
        "plt.plot(y_pred , label = 'Predicted', color = 'r')\n",
        "plt.legend()"
      ],
      "execution_count": null,
      "outputs": [
        {
          "output_type": "execute_result",
          "data": {
            "text/plain": [
              "<matplotlib.legend.Legend at 0x7f0db5d4ca90>"
            ]
          },
          "metadata": {},
          "execution_count": 23
        },
        {
          "output_type": "display_data",
          "data": {
            "image/png": "[encoded data removed]",
            "text/plain": [
              "<Figure size 720x360 with 1 Axes>"
            ]
          },
          "metadata": {
            "needs_background": "light"
          }
        }
      ]
    },
    {
      "cell_type": "markdown",
      "metadata": {
        "id": "EgJL2c_E_a5M"
      },
      "source": [
        "Acc to graph, the predicted values fit well with the actual ones."
      ]
    }
  ]
}